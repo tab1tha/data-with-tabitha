{
 "cells": [
  {
   "cell_type": "markdown",
   "id": "66411a1e",
   "metadata": {},
   "source": [
    "# 1st Data working session. DWT\n",
    "#### 28/08/2023 8:05-9pm\n",
    "\n",
    "The data we tend to come across in online courses and tutorials tends to come from other countries. In case that makes Data science feel like something that is only relevant in a context far away, we decided to evaluate our own data this time.\n",
    "\n",
    "This dataset is formed from the Google form responses of people who signed up for the Data with Tabitha meetup in June 2023. The structure of the form can be found here: https://docs.google.com/forms/d/e/1FAIpQLSciK0pCAoKpFFe9X9GNHbykR3QuLjFZCnELB5V2JuYHjwlAjQ/viewform?usp=sf_link"
   ]
  },
  {
   "cell_type": "code",
   "execution_count": 1,
   "id": "daa1931b",
   "metadata": {},
   "outputs": [],
   "source": [
    "import pandas as pd"
   ]
  },
  {
   "cell_type": "code",
   "execution_count": 2,
   "id": "6c4e5351",
   "metadata": {},
   "outputs": [],
   "source": [
    "df = pd.read_excel(\"Data with Tabitha (Responses).xlsx\")"
   ]
  },
  {
   "cell_type": "markdown",
   "id": "04b972fc",
   "metadata": {},
   "source": [
    "### de-duplicate\n",
    "If the form was filled more than once by the same person, drop the duplicate columns. The phone numbers can be used to check this."
   ]
  },
  {
   "cell_type": "code",
   "execution_count": 3,
   "id": "b43f11d2",
   "metadata": {},
   "outputs": [],
   "source": [
    "df = df.drop_duplicates(subset=[\"Whatsapp number \"])"
   ]
  },
  {
   "cell_type": "markdown",
   "id": "02142d1d",
   "metadata": {},
   "source": [
    "### pseudo-anonymising the data\n",
    "\n",
    "Find out what columns are in the data and remove the columns that contain information that can be used to identify persons (personal identifiable information).\n"
   ]
  },
  {
   "cell_type": "code",
   "execution_count": 4,
   "id": "c91ba73d",
   "metadata": {},
   "outputs": [
    {
     "data": {
      "text/plain": [
       "Index(['Timestamp', 'Name', 'Whatsapp number ', 'Email address ',\n",
       "       'About you. Tick the boxes that are true for you.'],\n",
       "      dtype='object')"
      ]
     },
     "execution_count": 4,
     "metadata": {},
     "output_type": "execute_result"
    }
   ],
   "source": [
    "df.columns"
   ]
  },
  {
   "cell_type": "code",
   "execution_count": 5,
   "id": "2696b57c",
   "metadata": {},
   "outputs": [],
   "source": [
    "df = df.drop(columns=[\"Name\", \"Email address \", \"Whatsapp number \"])"
   ]
  },
  {
   "cell_type": "markdown",
   "id": "89a24f52",
   "metadata": {},
   "source": [
    "### see what sort of data values make up the dataset."
   ]
  },
  {
   "cell_type": "markdown",
   "id": "2587f4e9",
   "metadata": {},
   "source": [
    "#### summary statistics\n",
    "df.describe works really well with numerical data. It gives an overall idea of statistical spread (mean, mode, median, variance, standard deviation) of the dataset.\n",
    "\n",
    "However, we see that it struggles to produces useful insight about our dataset which is mainly made of text."
   ]
  },
  {
   "cell_type": "code",
   "execution_count": 6,
   "id": "6bbc221b",
   "metadata": {},
   "outputs": [
    {
     "name": "stderr",
     "output_type": "stream",
     "text": [
      "C:\\Users\\tambe.tabitha\\AppData\\Local\\Temp\\ipykernel_82604\\3627053830.py:1: FutureWarning: Treating datetime data as categorical rather than numeric in `.describe` is deprecated and will be removed in a future version of pandas. Specify `datetime_is_numeric=True` to silence this warning and adopt the future behavior now.\n",
      "  df.describe()\n"
     ]
    },
    {
     "data": {
      "text/html": [
       "<div>\n",
       "<style scoped>\n",
       "    .dataframe tbody tr th:only-of-type {\n",
       "        vertical-align: middle;\n",
       "    }\n",
       "\n",
       "    .dataframe tbody tr th {\n",
       "        vertical-align: top;\n",
       "    }\n",
       "\n",
       "    .dataframe thead th {\n",
       "        text-align: right;\n",
       "    }\n",
       "</style>\n",
       "<table border=\"1\" class=\"dataframe\">\n",
       "  <thead>\n",
       "    <tr style=\"text-align: right;\">\n",
       "      <th></th>\n",
       "      <th>Timestamp</th>\n",
       "      <th>About you. Tick the boxes that are true for you.</th>\n",
       "    </tr>\n",
       "  </thead>\n",
       "  <tbody>\n",
       "    <tr>\n",
       "      <th>count</th>\n",
       "      <td>32</td>\n",
       "      <td>32</td>\n",
       "    </tr>\n",
       "    <tr>\n",
       "      <th>unique</th>\n",
       "      <td>32</td>\n",
       "      <td>16</td>\n",
       "    </tr>\n",
       "    <tr>\n",
       "      <th>top</th>\n",
       "      <td>2023-06-25 07:44:03.363000</td>\n",
       "      <td>Can code in one programming language, Can code...</td>\n",
       "    </tr>\n",
       "    <tr>\n",
       "      <th>freq</th>\n",
       "      <td>1</td>\n",
       "      <td>6</td>\n",
       "    </tr>\n",
       "    <tr>\n",
       "      <th>first</th>\n",
       "      <td>2023-06-25 07:44:03.363000</td>\n",
       "      <td>NaN</td>\n",
       "    </tr>\n",
       "    <tr>\n",
       "      <th>last</th>\n",
       "      <td>2023-06-29 05:05:58.522000</td>\n",
       "      <td>NaN</td>\n",
       "    </tr>\n",
       "  </tbody>\n",
       "</table>\n",
       "</div>"
      ],
      "text/plain": [
       "                         Timestamp  \\\n",
       "count                           32   \n",
       "unique                          32   \n",
       "top     2023-06-25 07:44:03.363000   \n",
       "freq                             1   \n",
       "first   2023-06-25 07:44:03.363000   \n",
       "last    2023-06-29 05:05:58.522000   \n",
       "\n",
       "         About you. Tick the boxes that are true for you.  \n",
       "count                                                  32  \n",
       "unique                                                 16  \n",
       "top     Can code in one programming language, Can code...  \n",
       "freq                                                    6  \n",
       "first                                                 NaN  \n",
       "last                                                  NaN  "
      ]
     },
     "execution_count": 6,
     "metadata": {},
     "output_type": "execute_result"
    }
   ],
   "source": [
    "df.describe()"
   ]
  },
  {
   "cell_type": "markdown",
   "id": "d3500dbf",
   "metadata": {},
   "source": [
    "#### seeing sample rows of dataset\n",
    "We can choose to see the first or last few rows of the dataset so that we know what kind of data each column has."
   ]
  },
  {
   "cell_type": "code",
   "execution_count": 7,
   "id": "58b20f5c",
   "metadata": {},
   "outputs": [
    {
     "data": {
      "text/html": [
       "<div>\n",
       "<style scoped>\n",
       "    .dataframe tbody tr th:only-of-type {\n",
       "        vertical-align: middle;\n",
       "    }\n",
       "\n",
       "    .dataframe tbody tr th {\n",
       "        vertical-align: top;\n",
       "    }\n",
       "\n",
       "    .dataframe thead th {\n",
       "        text-align: right;\n",
       "    }\n",
       "</style>\n",
       "<table border=\"1\" class=\"dataframe\">\n",
       "  <thead>\n",
       "    <tr style=\"text-align: right;\">\n",
       "      <th></th>\n",
       "      <th>Timestamp</th>\n",
       "      <th>About you. Tick the boxes that are true for you.</th>\n",
       "    </tr>\n",
       "  </thead>\n",
       "  <tbody>\n",
       "    <tr>\n",
       "      <th>0</th>\n",
       "      <td>2023-06-25 07:44:03.363</td>\n",
       "      <td>Can code in one programming language, Can code...</td>\n",
       "    </tr>\n",
       "    <tr>\n",
       "      <th>1</th>\n",
       "      <td>2023-06-25 07:54:24.820</td>\n",
       "      <td>Can code in one programming language, Can code...</td>\n",
       "    </tr>\n",
       "    <tr>\n",
       "      <th>2</th>\n",
       "      <td>2023-06-25 07:55:56.577</td>\n",
       "      <td>Can code in one programming language, Can code...</td>\n",
       "    </tr>\n",
       "    <tr>\n",
       "      <th>4</th>\n",
       "      <td>2023-06-25 09:59:42.652</td>\n",
       "      <td>Can code in one programming language, Can code...</td>\n",
       "    </tr>\n",
       "    <tr>\n",
       "      <th>5</th>\n",
       "      <td>2023-06-25 10:10:50.651</td>\n",
       "      <td>Can code in one programming language, Can code...</td>\n",
       "    </tr>\n",
       "  </tbody>\n",
       "</table>\n",
       "</div>"
      ],
      "text/plain": [
       "                Timestamp   About you. Tick the boxes that are true for you.\n",
       "0 2023-06-25 07:44:03.363  Can code in one programming language, Can code...\n",
       "1 2023-06-25 07:54:24.820  Can code in one programming language, Can code...\n",
       "2 2023-06-25 07:55:56.577  Can code in one programming language, Can code...\n",
       "4 2023-06-25 09:59:42.652  Can code in one programming language, Can code...\n",
       "5 2023-06-25 10:10:50.651  Can code in one programming language, Can code..."
      ]
     },
     "execution_count": 7,
     "metadata": {},
     "output_type": "execute_result"
    }
   ],
   "source": [
    "df.head()"
   ]
  },
  {
   "cell_type": "code",
   "execution_count": 8,
   "id": "03bcc5a7",
   "metadata": {},
   "outputs": [
    {
     "data": {
      "text/html": [
       "<div>\n",
       "<style scoped>\n",
       "    .dataframe tbody tr th:only-of-type {\n",
       "        vertical-align: middle;\n",
       "    }\n",
       "\n",
       "    .dataframe tbody tr th {\n",
       "        vertical-align: top;\n",
       "    }\n",
       "\n",
       "    .dataframe thead th {\n",
       "        text-align: right;\n",
       "    }\n",
       "</style>\n",
       "<table border=\"1\" class=\"dataframe\">\n",
       "  <thead>\n",
       "    <tr style=\"text-align: right;\">\n",
       "      <th></th>\n",
       "      <th>Timestamp</th>\n",
       "      <th>About you. Tick the boxes that are true for you.</th>\n",
       "    </tr>\n",
       "  </thead>\n",
       "  <tbody>\n",
       "    <tr>\n",
       "      <th>32</th>\n",
       "      <td>2023-06-26 15:07:49.325</td>\n",
       "      <td>Can code in Python or R, Studying (or studied)...</td>\n",
       "    </tr>\n",
       "    <tr>\n",
       "      <th>34</th>\n",
       "      <td>2023-06-26 16:14:43.350</td>\n",
       "      <td>Can code in one programming language, Can code...</td>\n",
       "    </tr>\n",
       "    <tr>\n",
       "      <th>35</th>\n",
       "      <td>2023-06-26 16:46:50.196</td>\n",
       "      <td>Can code in one programming language, Can code...</td>\n",
       "    </tr>\n",
       "    <tr>\n",
       "      <th>36</th>\n",
       "      <td>2023-06-26 17:37:54.235</td>\n",
       "      <td>Studying (or studied) a Data science related t...</td>\n",
       "    </tr>\n",
       "    <tr>\n",
       "      <th>37</th>\n",
       "      <td>2023-06-29 05:05:58.522</td>\n",
       "      <td>Studying (or studied) a Data science related t...</td>\n",
       "    </tr>\n",
       "  </tbody>\n",
       "</table>\n",
       "</div>"
      ],
      "text/plain": [
       "                 Timestamp   About you. Tick the boxes that are true for you.\n",
       "32 2023-06-26 15:07:49.325  Can code in Python or R, Studying (or studied)...\n",
       "34 2023-06-26 16:14:43.350  Can code in one programming language, Can code...\n",
       "35 2023-06-26 16:46:50.196  Can code in one programming language, Can code...\n",
       "36 2023-06-26 17:37:54.235  Studying (or studied) a Data science related t...\n",
       "37 2023-06-29 05:05:58.522  Studying (or studied) a Data science related t..."
      ]
     },
     "execution_count": 8,
     "metadata": {},
     "output_type": "execute_result"
    }
   ],
   "source": [
    "df.tail()"
   ]
  },
  {
   "cell_type": "markdown",
   "id": "d1994d54",
   "metadata": {},
   "source": [
    "## Finding insights\n",
    "\n",
    "We can explore the \"about you\" columns to answer questions such as\n",
    "- How many of the people who signed up for the meetup could code in at least one programming language?"
   ]
  },
  {
   "cell_type": "markdown",
   "id": "d113279c",
   "metadata": {},
   "source": [
    "### Exploring the \"About you\" column\n",
    "We start by getting a view of how an entry in this column looks like. It seems to comprise of the text values of all the options that the participant ticked on the last question of the google form. The responses are combined in a string and separated from each other by commas within the string."
   ]
  },
  {
   "cell_type": "code",
   "execution_count": 9,
   "id": "326948fd",
   "metadata": {},
   "outputs": [
    {
     "data": {
      "text/plain": [
       "'Can code in one programming language, Can code in Python or R, Have built a Data science related project, Uses Data science concepts at work.'"
      ]
     },
     "execution_count": 9,
     "metadata": {},
     "output_type": "execute_result"
    }
   ],
   "source": [
    "# index 0 gets the content of the first row of that column.\n",
    "df[\"About you. Tick the boxes that are true for you.\"][0]"
   ]
  },
  {
   "cell_type": "code",
   "execution_count": 10,
   "id": "f883ef97",
   "metadata": {},
   "outputs": [],
   "source": [
    "# a shorter name will make our work much easier.\n",
    "df = df.rename(columns = {\"About you. Tick the boxes that are true for you.\": \"responses\"})"
   ]
  },
  {
   "cell_type": "code",
   "execution_count": 11,
   "id": "8d9c2755",
   "metadata": {},
   "outputs": [
    {
     "data": {
      "text/plain": [
       "Index(['Timestamp', 'responses'], dtype='object')"
      ]
     },
     "execution_count": 11,
     "metadata": {},
     "output_type": "execute_result"
    }
   ],
   "source": [
    "# check that the rename worked.\n",
    "df.columns"
   ]
  },
  {
   "cell_type": "markdown",
   "id": "ef200af4",
   "metadata": {},
   "source": [
    "The next instinct might be to print out unique values of our column of interest to see what categories exist. However, that doesn't seem to take us closer to knowing how many people knew how to code."
   ]
  },
  {
   "cell_type": "code",
   "execution_count": 12,
   "id": "d24f99ab",
   "metadata": {},
   "outputs": [
    {
     "data": {
      "text/plain": [
       "array(['Can code in one programming language, Can code in Python or R, Have built a Data science related project, Uses Data science concepts at work.',\n",
       "       'Can code in one programming language, Can code in Python or R, Studying (or studied) a Data science related thing, Have built a Data science related project',\n",
       "       'Can code in one programming language, Can code in Python or R, Studying (or studied) a Data science related thing',\n",
       "       'Can code in one programming language, Can code in Python or R',\n",
       "       'Can code in one programming language',\n",
       "       'Can code in Python or R, Studying (or studied) a Data science related thing',\n",
       "       'Studying (or studied) a Data science related thing',\n",
       "       'Uses Data science concepts at work.',\n",
       "       'Can code in one programming language, DS enthusiast ',\n",
       "       'Can code in one programming language, ',\n",
       "       'Can code in Python or R',\n",
       "       'Can code in one programming language, Studying (or studied) a Data science related thing',\n",
       "       'Curious about data science ',\n",
       "       'Can code in Python or R, Studying (or studied) a Data science related thing, Have built a Data science related project',\n",
       "       'Can code in one programming language, Can code in Python or R, Studying (or studied) a Data science related thing, Have built a Data science related project, Uses Data science concepts at work.',\n",
       "       'Can code in one programming language, Can code in Python or R, Software Engineer | DevOps | IT support specialist with Python'],\n",
       "      dtype=object)"
      ]
     },
     "execution_count": 12,
     "metadata": {},
     "output_type": "execute_result"
    }
   ],
   "source": [
    "df['responses'].unique()"
   ]
  },
  {
   "cell_type": "markdown",
   "id": "0436b867",
   "metadata": {},
   "source": [
    "So we split out the large strings into their component sub-responses in a way that allows us to count how many people chose each sub-response.\n",
    "df.explode() will help us get one sub-response per row. It needs to act on a list not a string so we split the string into a list of sub-responses first, then explode on that column."
   ]
  },
  {
   "cell_type": "code",
   "execution_count": 13,
   "id": "bb1ff22b",
   "metadata": {},
   "outputs": [],
   "source": [
    "df[\"resp_list\"]= df['responses'].str.split(',')"
   ]
  },
  {
   "cell_type": "code",
   "execution_count": 14,
   "id": "be110aec",
   "metadata": {},
   "outputs": [
    {
     "data": {
      "text/html": [
       "<div>\n",
       "<style scoped>\n",
       "    .dataframe tbody tr th:only-of-type {\n",
       "        vertical-align: middle;\n",
       "    }\n",
       "\n",
       "    .dataframe tbody tr th {\n",
       "        vertical-align: top;\n",
       "    }\n",
       "\n",
       "    .dataframe thead th {\n",
       "        text-align: right;\n",
       "    }\n",
       "</style>\n",
       "<table border=\"1\" class=\"dataframe\">\n",
       "  <thead>\n",
       "    <tr style=\"text-align: right;\">\n",
       "      <th></th>\n",
       "      <th>Timestamp</th>\n",
       "      <th>responses</th>\n",
       "      <th>resp_list</th>\n",
       "    </tr>\n",
       "  </thead>\n",
       "  <tbody>\n",
       "    <tr>\n",
       "      <th>0</th>\n",
       "      <td>2023-06-25 07:44:03.363</td>\n",
       "      <td>Can code in one programming language, Can code...</td>\n",
       "      <td>[Can code in one programming language,  Can co...</td>\n",
       "    </tr>\n",
       "    <tr>\n",
       "      <th>1</th>\n",
       "      <td>2023-06-25 07:54:24.820</td>\n",
       "      <td>Can code in one programming language, Can code...</td>\n",
       "      <td>[Can code in one programming language,  Can co...</td>\n",
       "    </tr>\n",
       "    <tr>\n",
       "      <th>2</th>\n",
       "      <td>2023-06-25 07:55:56.577</td>\n",
       "      <td>Can code in one programming language, Can code...</td>\n",
       "      <td>[Can code in one programming language,  Can co...</td>\n",
       "    </tr>\n",
       "    <tr>\n",
       "      <th>4</th>\n",
       "      <td>2023-06-25 09:59:42.652</td>\n",
       "      <td>Can code in one programming language, Can code...</td>\n",
       "      <td>[Can code in one programming language,  Can co...</td>\n",
       "    </tr>\n",
       "    <tr>\n",
       "      <th>5</th>\n",
       "      <td>2023-06-25 10:10:50.651</td>\n",
       "      <td>Can code in one programming language, Can code...</td>\n",
       "      <td>[Can code in one programming language,  Can co...</td>\n",
       "    </tr>\n",
       "  </tbody>\n",
       "</table>\n",
       "</div>"
      ],
      "text/plain": [
       "                Timestamp                                          responses  \\\n",
       "0 2023-06-25 07:44:03.363  Can code in one programming language, Can code...   \n",
       "1 2023-06-25 07:54:24.820  Can code in one programming language, Can code...   \n",
       "2 2023-06-25 07:55:56.577  Can code in one programming language, Can code...   \n",
       "4 2023-06-25 09:59:42.652  Can code in one programming language, Can code...   \n",
       "5 2023-06-25 10:10:50.651  Can code in one programming language, Can code...   \n",
       "\n",
       "                                           resp_list  \n",
       "0  [Can code in one programming language,  Can co...  \n",
       "1  [Can code in one programming language,  Can co...  \n",
       "2  [Can code in one programming language,  Can co...  \n",
       "4  [Can code in one programming language,  Can co...  \n",
       "5  [Can code in one programming language,  Can co...  "
      ]
     },
     "execution_count": 14,
     "metadata": {},
     "output_type": "execute_result"
    }
   ],
   "source": [
    "df.head()"
   ]
  },
  {
   "cell_type": "code",
   "execution_count": 15,
   "id": "e3631cbe",
   "metadata": {},
   "outputs": [],
   "source": [
    " df = df.explode(\"resp_list\")"
   ]
  },
  {
   "cell_type": "code",
   "execution_count": 16,
   "id": "6e92dafe",
   "metadata": {},
   "outputs": [],
   "source": [
    "df['resp_list'] = df['resp_list'].str.strip()"
   ]
  },
  {
   "cell_type": "code",
   "execution_count": 17,
   "id": "4f225c4c",
   "metadata": {},
   "outputs": [
    {
     "data": {
      "text/plain": [
       "Can code in one programming language                              22\n",
       "Can code in Python or R                                           21\n",
       "Studying (or studied) a Data science related thing                20\n",
       "Have built a Data science related project                          8\n",
       "Uses Data science concepts at work.                                3\n",
       "DS enthusiast                                                      1\n",
       "                                                                   1\n",
       "Curious about data science                                         1\n",
       "Software Engineer | DevOps | IT support specialist with Python     1\n",
       "Name: resp_list, dtype: int64"
      ]
     },
     "execution_count": 17,
     "metadata": {},
     "output_type": "execute_result"
    }
   ],
   "source": [
    "df['resp_list'].value_counts()"
   ]
  },
  {
   "cell_type": "markdown",
   "id": "5bb19d15",
   "metadata": {},
   "source": [
    "Now we know that 22 of the participants who signed up to the meet-and-greet could code in one programming language."
   ]
  },
  {
   "cell_type": "markdown",
   "id": "f12f9f41",
   "metadata": {},
   "source": [
    "## Further work\n",
    "We could go on to calculate the percentages of people that chose each subcategory, with respect to the total number of people who signed up.\n",
    "\n",
    "Also, we could look at the timestamp column and observe if there are any patterns in the intervals between when the form was filled by the various participants.\n",
    "Did the majority fill the form within the first hour?\n",
    "What is the average time between responses? (keep in mind that responses are independent of each other)\n",
    "\n",
    "Moreso, we could explore if there are more efficient ways of getting the data we need out of the responses column without exploding the dataset. This is because the explode process significantly increases the size of the data."
   ]
  },
  {
   "cell_type": "markdown",
   "id": "1554a265",
   "metadata": {},
   "source": [
    "That's it for now, Good night ! :)"
   ]
  }
 ],
 "metadata": {
  "kernelspec": {
   "display_name": "Python 3 (ipykernel)",
   "language": "python",
   "name": "python3"
  },
  "language_info": {
   "codemirror_mode": {
    "name": "ipython",
    "version": 3
   },
   "file_extension": ".py",
   "mimetype": "text/x-python",
   "name": "python",
   "nbconvert_exporter": "python",
   "pygments_lexer": "ipython3",
   "version": "3.9.13"
  }
 },
 "nbformat": 4,
 "nbformat_minor": 5
}
